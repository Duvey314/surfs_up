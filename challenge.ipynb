{
 "metadata": {
  "language_info": {
   "codemirror_mode": {
    "name": "ipython",
    "version": 3
   },
   "file_extension": ".py",
   "mimetype": "text/x-python",
   "name": "python",
   "nbconvert_exporter": "python",
   "pygments_lexer": "ipython3",
   "version": 3
  },
  "orig_nbformat": 2,
  "kernelspec": {
   "name": "python_defaultSpec_1596220238798",
   "display_name": "Python 3.7.7 64-bit ('PythonData': conda)"
  }
 },
 "nbformat": 4,
 "nbformat_minor": 2,
 "cells": [
  {
   "cell_type": "markdown",
   "metadata": {},
   "source": [
    "# Challenge\n",
    "---\n",
    "This notebook is looking at the seasonal differences in weather for the island of oahu. The data is stored in a sqlite database.\n",
    "\n",
    "1. Identify key statistical data in June across all of the stations and years using the describe() function.\n",
    "2. Identify key statistical data in December across all stations and years using the describe() function.\n",
    "3. Share your findings in the Jupyter Notebook with a few sentences describing the key differences in weather between June and December and 2-3 recommendations for further analysis.\n"
   ]
  },
  {
   "cell_type": "code",
   "execution_count": 34,
   "metadata": {},
   "outputs": [],
   "source": [
    "# plotting dependencies\n",
    "%matplotlib inline\n",
    "from matplotlib import style\n",
    "style.use('fivethirtyeight')\n",
    "import matplotlib.pyplot as plt\n",
    "\n",
    "# data analysis dependencies\n",
    "import numpy as np\n",
    "import pandas as pd\n",
    "\n",
    "# other\n",
    "import datetime as dt\n",
    "\n",
    "# Python SQL toolkit and Object Relational Mapper\n",
    "import sqlalchemy\n",
    "from sqlalchemy.ext.automap import automap_base\n",
    "from sqlalchemy.orm import Session\n",
    "from sqlalchemy import create_engine, func\n",
    "from sqlalchemy import extract "
   ]
  },
  {
   "cell_type": "markdown",
   "metadata": {},
   "source": [
    "### Setting up The Sqlite Session"
   ]
  },
  {
   "cell_type": "code",
   "execution_count": 35,
   "metadata": {},
   "outputs": [],
   "source": [
    "# create the engine for our sql database\n",
    "engine = create_engine('sqlite:///hawaii.sqlite')\n",
    "# set a base class for an automap schema\n",
    "Base = automap_base()\n",
    "# reflect an existing database into a new model\n",
    "Base.prepare(engine, reflect = True)\n",
    "\n",
    "# Save references to each table\n",
    "Measurement = Base.classes.measurement\n",
    "Station = Base.classes.station\n",
    "\n",
    "# Create our session (link) from Python to the DB\n",
    "session = Session(engine)"
   ]
  },
  {
   "cell_type": "markdown",
   "metadata": {},
   "source": [
    "### Create a Function for Monthly Weather data"
   ]
  },
  {
   "cell_type": "code",
   "execution_count": 36,
   "metadata": {
    "tags": []
   },
   "outputs": [],
   "source": [
    "def month_describe(month:int):\n",
    "    '''Input is a month in the form of an int between 1 and 12''' \n",
    "    \n",
    "    if (month < 1) or (month > 12):\n",
    "        return(\"Not a recognized month\")\n",
    "\n",
    "    # get the month data from the table\n",
    "    results = session.query(Measurement.date, Measurement.prcp, Measurement.tobs).filter(extract('month', Measurement.date)==month).all()\n",
    "    # add the results of the query to a df for analysis\n",
    "    results_df = pd.DataFrame(results, columns=['date','precipitation','tobs'])\n",
    "    results_df.set_index(results_df['date'], inplace = True)\n",
    "    return(results_df.describe())"
   ]
  },
  {
   "cell_type": "markdown",
   "metadata": {},
   "source": [
    "### Monthly Weather Data for June"
   ]
  },
  {
   "cell_type": "code",
   "execution_count": 37,
   "metadata": {},
   "outputs": [
    {
     "output_type": "execute_result",
     "data": {
      "text/plain": "       precipitation         tobs\ncount    1574.000000  1700.000000\nmean        0.136360    74.944118\nstd         0.335731     3.257417\nmin         0.000000    64.000000\n25%         0.000000    73.000000\n50%         0.020000    75.000000\n75%         0.120000    77.000000\nmax         4.430000    85.000000",
      "text/html": "<div>\n<style scoped>\n    .dataframe tbody tr th:only-of-type {\n        vertical-align: middle;\n    }\n\n    .dataframe tbody tr th {\n        vertical-align: top;\n    }\n\n    .dataframe thead th {\n        text-align: right;\n    }\n</style>\n<table border=\"1\" class=\"dataframe\">\n  <thead>\n    <tr style=\"text-align: right;\">\n      <th></th>\n      <th>precipitation</th>\n      <th>tobs</th>\n    </tr>\n  </thead>\n  <tbody>\n    <tr>\n      <th>count</th>\n      <td>1574.000000</td>\n      <td>1700.000000</td>\n    </tr>\n    <tr>\n      <th>mean</th>\n      <td>0.136360</td>\n      <td>74.944118</td>\n    </tr>\n    <tr>\n      <th>std</th>\n      <td>0.335731</td>\n      <td>3.257417</td>\n    </tr>\n    <tr>\n      <th>min</th>\n      <td>0.000000</td>\n      <td>64.000000</td>\n    </tr>\n    <tr>\n      <th>25%</th>\n      <td>0.000000</td>\n      <td>73.000000</td>\n    </tr>\n    <tr>\n      <th>50%</th>\n      <td>0.020000</td>\n      <td>75.000000</td>\n    </tr>\n    <tr>\n      <th>75%</th>\n      <td>0.120000</td>\n      <td>77.000000</td>\n    </tr>\n    <tr>\n      <th>max</th>\n      <td>4.430000</td>\n      <td>85.000000</td>\n    </tr>\n  </tbody>\n</table>\n</div>"
     },
     "metadata": {},
     "execution_count": 37
    }
   ],
   "source": [
    "# June = 6\n",
    "month_describe(6)"
   ]
  },
  {
   "cell_type": "markdown",
   "metadata": {},
   "source": [
    "### Monthly Weather Data for December"
   ]
  },
  {
   "cell_type": "code",
   "execution_count": 38,
   "metadata": {},
   "outputs": [
    {
     "output_type": "execute_result",
     "data": {
      "text/plain": "       precipitation         tobs\ncount    1405.000000  1517.000000\nmean        0.216819    71.041529\nstd         0.541399     3.745920\nmin         0.000000    56.000000\n25%         0.000000    69.000000\n50%         0.030000    71.000000\n75%         0.150000    74.000000\nmax         6.420000    83.000000",
      "text/html": "<div>\n<style scoped>\n    .dataframe tbody tr th:only-of-type {\n        vertical-align: middle;\n    }\n\n    .dataframe tbody tr th {\n        vertical-align: top;\n    }\n\n    .dataframe thead th {\n        text-align: right;\n    }\n</style>\n<table border=\"1\" class=\"dataframe\">\n  <thead>\n    <tr style=\"text-align: right;\">\n      <th></th>\n      <th>precipitation</th>\n      <th>tobs</th>\n    </tr>\n  </thead>\n  <tbody>\n    <tr>\n      <th>count</th>\n      <td>1405.000000</td>\n      <td>1517.000000</td>\n    </tr>\n    <tr>\n      <th>mean</th>\n      <td>0.216819</td>\n      <td>71.041529</td>\n    </tr>\n    <tr>\n      <th>std</th>\n      <td>0.541399</td>\n      <td>3.745920</td>\n    </tr>\n    <tr>\n      <th>min</th>\n      <td>0.000000</td>\n      <td>56.000000</td>\n    </tr>\n    <tr>\n      <th>25%</th>\n      <td>0.000000</td>\n      <td>69.000000</td>\n    </tr>\n    <tr>\n      <th>50%</th>\n      <td>0.030000</td>\n      <td>71.000000</td>\n    </tr>\n    <tr>\n      <th>75%</th>\n      <td>0.150000</td>\n      <td>74.000000</td>\n    </tr>\n    <tr>\n      <th>max</th>\n      <td>6.420000</td>\n      <td>83.000000</td>\n    </tr>\n  </tbody>\n</table>\n</div>"
     },
     "metadata": {},
     "execution_count": 38
    }
   ],
   "source": [
    "# December = 12\n",
    "month_describe(12)"
   ]
  },
  {
   "cell_type": "markdown",
   "metadata": {
    "tags": []
   },
   "source": [
    "### Observations on Monthly Changes\n",
    "\n",
    "One of the nice things about tropical islands is that the weather is relatively stable year round. This can easily be seen in the average temperature values for both months. In June the average temperature was about 75 degrees compared to 71 degrees in December. A four degree difference is likely not the deciding factor in vaction planning. The temperature is also very stable with an interquartile range of only 5 degrees in December and 4 degrees in June. We can see a difference in the precipitation though with December seeing nearly 60% more rain than June.\n",
    "\n",
    "Since this exercise is a business analysis, looking at the economy of Oahu whould be very helpful. Is the town a tourist destination or mostly locals? Is it alreay a surfing spot with many store or is this store filling a missing market. It would also do well to perfomr these analysis along with the weather analysis on a few other cities near by for a comparison."
   ]
  },
  {
   "cell_type": "code",
   "execution_count": null,
   "metadata": {},
   "outputs": [],
   "source": []
  }
 ]
}